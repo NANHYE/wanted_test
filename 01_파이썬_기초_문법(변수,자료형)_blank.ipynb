{
 "cells": [
  {
   "cell_type": "markdown",
   "metadata": {
    "id": "rykO60mofpWR"
   },
   "source": [
    "# 1. 변수"
   ]
  },
  {
   "cell_type": "code",
   "execution_count": 2,
   "metadata": {},
   "outputs": [],
   "source": [
    "name = \"홍길동\"  \n",
    "age = \"20\"  \n",
    "item_count = \"15\""
   ]
  },
  {
   "cell_type": "code",
   "execution_count": 4,
   "metadata": {},
   "outputs": [
    {
     "name": "stdout",
     "output_type": "stream",
     "text": [
      "홍길동\n"
     ]
    }
   ],
   "source": [
    "print(name)"
   ]
  },
  {
   "cell_type": "code",
   "execution_count": 5,
   "metadata": {},
   "outputs": [
    {
     "name": "stdout",
     "output_type": "stream",
     "text": [
      "홍길동 20 15\n"
     ]
    }
   ],
   "source": [
    "print(name, age, item_count)"
   ]
  },
  {
   "cell_type": "code",
   "execution_count": 1,
   "metadata": {},
   "outputs": [
    {
     "name": "stdout",
     "output_type": "stream",
     "text": [
      "seoul busan\n"
     ]
    }
   ],
   "source": [
    "city = \"seoul\"  \n",
    "City = \"busan\"  \n",
    "print(city, City)"
   ]
  },
  {
   "cell_type": "code",
   "execution_count": null,
   "metadata": {},
   "outputs": [],
   "source": []
  },
  {
   "cell_type": "markdown",
   "metadata": {},
   "source": [
    "city"
   ]
  },
  {
   "cell_type": "markdown",
   "metadata": {
    "id": "wUlzBbEmfpWT"
   },
   "source": [
    "# 3. 자료형"
   ]
  },
  {
   "cell_type": "markdown",
   "metadata": {
    "id": "msOAV5snfpWU"
   },
   "source": [
    "## 1) 숫자형"
   ]
  },
  {
   "cell_type": "markdown",
   "metadata": {
    "id": "VNzBbeEefpWU"
   },
   "source": [
    "### (1) 표현"
   ]
  },
  {
   "cell_type": "code",
   "execution_count": 7,
   "metadata": {},
   "outputs": [
    {
     "name": "stdout",
     "output_type": "stream",
     "text": [
      "5 -1 0 1000000\n"
     ]
    }
   ],
   "source": [
    "# 정수 \n",
    "x = 5\n",
    "y = -1\n",
    "z = 0\n",
    "money = 1_000_000  \n",
    "\n",
    "print(x, y, z, money)\n"
   ]
  },
  {
   "cell_type": "code",
   "execution_count": 9,
   "metadata": {},
   "outputs": [
    {
     "name": "stdout",
     "output_type": "stream",
     "text": [
      "3.141 -2.5 1e-17\n"
     ]
    }
   ],
   "source": [
    "# 실수  \n",
    "a = 3.141\n",
    "b = -2.5\n",
    "c = 0.00000000000000001\n",
    "\n",
    "print(a, b, c)"
   ]
  },
  {
   "cell_type": "code",
   "execution_count": 11,
   "metadata": {},
   "outputs": [
    {
     "name": "stdout",
     "output_type": "stream",
     "text": [
      "10000000000.0 3e-05\n"
     ]
    }
   ],
   "source": [
    "x = 1e+10\n",
    "y = 3e-5\n",
    "\n",
    "print(x,y)"
   ]
  },
  {
   "cell_type": "code",
   "execution_count": 12,
   "metadata": {},
   "outputs": [
    {
     "name": "stdout",
     "output_type": "stream",
     "text": [
      "<class 'float'>\n"
     ]
    }
   ],
   "source": [
    "print(type(x))"
   ]
  },
  {
   "cell_type": "code",
   "execution_count": 13,
   "metadata": {},
   "outputs": [
    {
     "name": "stdout",
     "output_type": "stream",
     "text": [
      "<class 'float'>\n"
     ]
    }
   ],
   "source": [
    "z =1.0\n",
    "\n",
    "print((type(z)))"
   ]
  },
  {
   "cell_type": "markdown",
   "metadata": {
    "id": "qArKs0K3fpWU"
   },
   "source": [
    "### (2) 산술/복합 연산"
   ]
  },
  {
   "cell_type": "code",
   "execution_count": 15,
   "metadata": {},
   "outputs": [
    {
     "name": "stdout",
     "output_type": "stream",
     "text": [
      "13\n",
      "7\n",
      "30\n",
      "3.3333333333333335\n",
      "3\n",
      "1\n",
      "1000\n"
     ]
    }
   ],
   "source": [
    "num1 = 10\n",
    "num2 = 3\n",
    "\n",
    "print(num1 + num2)\n",
    "print(num1 - num2)\n",
    "print(num1 * num2)\n",
    "print(num1 / num2)\n",
    "print(num1 // num2)\n",
    "print(num1 % num2)\n",
    "print(num1 ** num2)"
   ]
  },
  {
   "cell_type": "code",
   "execution_count": 17,
   "metadata": {},
   "outputs": [
    {
     "name": "stdout",
     "output_type": "stream",
     "text": [
      "4.0\n",
      "<class 'float'>\n"
     ]
    }
   ],
   "source": [
    "num1 = 12\n",
    "num2 = 3\n",
    "num3 = num1 / num2\n",
    "\n",
    "print(num3)\n",
    "print(type((num3)))"
   ]
  },
  {
   "cell_type": "code",
   "execution_count": 19,
   "metadata": {},
   "outputs": [
    {
     "name": "stdout",
     "output_type": "stream",
     "text": [
      "내 잔고 50000\n",
      "내 잔고: 70000\n"
     ]
    }
   ],
   "source": [
    "money = 50000\n",
    "print(\"내 잔고\", money)\n",
    "\n",
    "money += 20000\n",
    "print(\"내 잔고:\", money)"
   ]
  },
  {
   "cell_type": "markdown",
   "metadata": {
    "id": "5zVloo50fpWU"
   },
   "source": [
    "### (3) 예제"
   ]
  },
  {
   "cell_type": "markdown",
   "metadata": {
    "id": "xRKpBRBKfpWU"
   },
   "source": [
    "반복할 횟수 구하기: 100개의 게시물을 한 페이지에 30개씩 보여주려면 총 몇 페이지가 필요할까요?"
   ]
  },
  {
   "cell_type": "code",
   "execution_count": null,
   "metadata": {},
   "outputs": [],
   "source": [
    "# 100 나누기 30 = 몫 3 나머지 10\n",
    "# 나머지 10도 페이지로 표현할 수 있다.\n",
    "# 나머지가 있는 경우에는 몫에 1을 더해야 한다.\n",
    "\n",
    "posts = 100\n"
   ]
  },
  {
   "cell_type": "markdown",
   "metadata": {
    "id": "6zj1iSwefpWV"
   },
   "source": [
    "출생년도가 1982일 때 홀수, 짝수 판단하기"
   ]
  },
  {
   "cell_type": "code",
   "execution_count": 22,
   "metadata": {
    "id": "A0Hb8prSfpWV"
   },
   "outputs": [
    {
     "name": "stdout",
     "output_type": "stream",
     "text": [
      "0\n"
     ]
    }
   ],
   "source": [
    "# 코드로 짝수/홀수 판단하는 방법 : 나머지가 1이면 홀수, 0이면 짝수\n",
    "# 나머지 연산자 : %\n",
    "\n",
    "birth = 1982\n",
    "\n",
    "result = birth % 2\n",
    "print(result)\n"
   ]
  },
  {
   "cell_type": "markdown",
   "metadata": {
    "id": "BxNz_w8zfpWV"
   },
   "source": [
    "## 2) ⭐ 문자열"
   ]
  },
  {
   "cell_type": "markdown",
   "metadata": {
    "id": "g5c456kQfpWV"
   },
   "source": [
    "### (1) 표현"
   ]
  },
  {
   "cell_type": "code",
   "execution_count": 23,
   "metadata": {},
   "outputs": [
    {
     "name": "stdout",
     "output_type": "stream",
     "text": [
      "안녕하세요\n",
      "<class 'str'>\n"
     ]
    }
   ],
   "source": [
    "message = \"안녕하세요\"\n",
    "print(message)\n",
    "print(type(message))"
   ]
  },
  {
   "cell_type": "code",
   "execution_count": 26,
   "metadata": {},
   "outputs": [
    {
     "name": "stdout",
     "output_type": "stream",
     "text": [
      "\"철수가 말했습니다.\"\n"
     ]
    }
   ],
   "source": [
    "message = '\\\"철수가 말했습니다.\\\"'\n",
    "print(message)\n"
   ]
  },
  {
   "cell_type": "code",
   "execution_count": 28,
   "metadata": {},
   "outputs": [
    {
     "name": "stdout",
     "output_type": "stream",
     "text": [
      "사과 맛있다\n",
      "바나나 맛있다\n",
      "과자 먹고싶다\n"
     ]
    }
   ],
   "source": [
    "review = \"\"\"사과 맛있다\n",
    "바나나 맛있다\n",
    "과자 먹고싶다\"\"\"\n",
    "\n",
    "print(review)"
   ]
  },
  {
   "cell_type": "markdown",
   "metadata": {
    "id": "toneTdjWfpWV"
   },
   "source": [
    "### (2) 연산"
   ]
  },
  {
   "cell_type": "code",
   "execution_count": 29,
   "metadata": {},
   "outputs": [
    {
     "name": "stdout",
     "output_type": "stream",
     "text": [
      "안녕반가워\n"
     ]
    }
   ],
   "source": [
    "# +(결함)\n",
    "text1 = \"안녕\"\n",
    "text2 = \"반가워\"\n",
    "\n",
    "print(text1 + text2)"
   ]
  },
  {
   "cell_type": "code",
   "execution_count": 30,
   "metadata": {},
   "outputs": [
    {
     "name": "stdout",
     "output_type": "stream",
     "text": [
      "헬로헬로헬로헬로헬로\n"
     ]
    }
   ],
   "source": [
    "# *(반복)\n",
    "text3 = \"헬로\"\n",
    "\n",
    "print(text3 * 5)"
   ]
  },
  {
   "cell_type": "markdown",
   "metadata": {
    "id": "hUBJ8gzffpWW"
   },
   "source": [
    "### (3) 인덱싱/슬라이싱"
   ]
  },
  {
   "cell_type": "code",
   "execution_count": 31,
   "metadata": {},
   "outputs": [
    {
     "name": "stdout",
     "output_type": "stream",
     "text": [
      "1\n",
      "1\n"
     ]
    }
   ],
   "source": [
    "regist_num = \"901212-1325221\"\n",
    "\n",
    "print(regist_num[7])\n",
    "print(regist_num[-7])"
   ]
  },
  {
   "cell_type": "code",
   "execution_count": null,
   "metadata": {},
   "outputs": [],
   "source": []
  },
  {
   "cell_type": "markdown",
   "metadata": {
    "id": "y6mwyMTAfpWW"
   },
   "source": [
    "#### 슬라이싱"
   ]
  },
  {
   "cell_type": "code",
   "execution_count": 33,
   "metadata": {},
   "outputs": [
    {
     "name": "stdout",
     "output_type": "stream",
     "text": [
      "1212\n",
      "1212\n"
     ]
    }
   ],
   "source": [
    "regist_num = \"901212-1325221\"\n",
    "\n",
    "print(regist_num[2:6])\n",
    "print(regist_num[-12:-8])"
   ]
  },
  {
   "cell_type": "markdown",
   "metadata": {
    "id": "pdb-uQGQfpWW"
   },
   "source": [
    "문제. 주민등번호 뒷자리에서 성별을 제외하고 *로 표시해주세요."
   ]
  },
  {
   "cell_type": "code",
   "execution_count": 69,
   "metadata": {
    "id": "d5Tm04Y7fpWW"
   },
   "outputs": [
    {
     "ename": "SyntaxError",
     "evalue": "invalid syntax (1013705045.py, line 5)",
     "output_type": "error",
     "traceback": [
      "  \u001b[36mCell\u001b[39m\u001b[36m \u001b[39m\u001b[32mIn[69]\u001b[39m\u001b[32m, line 5\u001b[39m\n\u001b[31m    \u001b[39m\u001b[31mprint(regist_num[:8], + *6)\u001b[39m\n                            ^\n\u001b[31mSyntaxError\u001b[39m\u001b[31m:\u001b[39m invalid syntax\n"
     ]
    }
   ],
   "source": [
    "# \n",
    "\n",
    "regist_num = \"901212-1325221\"\n",
    "\n",
    "print(regist_num[:8], + *6)"
   ]
  },
  {
   "cell_type": "markdown",
   "metadata": {
    "id": "gATEkKPQfpWW"
   },
   "source": [
    "### (4) 문자열 포매팅(f-string)"
   ]
  },
  {
   "cell_type": "code",
   "execution_count": 49,
   "metadata": {
    "id": "NYRqG_0QfpWW"
   },
   "outputs": [
    {
     "name": "stdout",
     "output_type": "stream",
     "text": [
      "홍길동아님 안녕하세요.\n"
     ]
    }
   ],
   "source": [
    "name = \"홍길동아\"\n",
    "\n",
    "message = f\"{name}님 안녕하세요.\"\n",
    "print(message)\n",
    "\n"
   ]
  },
  {
   "cell_type": "code",
   "execution_count": 70,
   "metadata": {},
   "outputs": [
    {
     "name": "stdout",
     "output_type": "stream",
     "text": [
      "홍길동님 안녕하세요.\n"
     ]
    }
   ],
   "source": [
    "name = \"홍길동\"\n",
    "massage = \"홍길동님 안녕하세요.\"\n",
    "message = f\"{name}님 안녕하세요.\"\n",
    "\n",
    "print(massage)"
   ]
  },
  {
   "cell_type": "code",
   "execution_count": 71,
   "metadata": {},
   "outputs": [
    {
     "name": "stdout",
     "output_type": "stream",
     "text": [
      "홍길동님 안녕하세요.\n"
     ]
    }
   ],
   "source": [
    "name = \"홍길동\"\n",
    "massage = \"홍길동님 안녕하세요.\"\n",
    "massage = f\"{name}님 안녕하세요.\"\n",
    "\n",
    "print(massage)"
   ]
  },
  {
   "cell_type": "markdown",
   "metadata": {
    "id": "JeI53FmcfpWW"
   },
   "source": [
    "### (5) 관련 메서드"
   ]
  },
  {
   "cell_type": "markdown",
   "metadata": {
    "id": "2kO-FpdCfpWW"
   },
   "source": [
    "#### ⭐ 문자열 나누기(split)"
   ]
  },
  {
   "cell_type": "code",
   "execution_count": 36,
   "metadata": {
    "id": "UjuLhug4fpWW"
   },
   "outputs": [
    {
     "name": "stdout",
     "output_type": "stream",
     "text": [
      "['서울시', '관악구', '신림동']\n",
      "['강남구', '동작구', '노원구']\n"
     ]
    }
   ],
   "source": [
    "address1 = \"서울시 관악구 신림동\" \n",
    "address2 = \"강남구/동작구/노원구\"\n",
    "\n",
    "print(address1.split(\" \"))\n",
    "print(address2.split(\"/\"))"
   ]
  },
  {
   "cell_type": "code",
   "execution_count": 40,
   "metadata": {},
   "outputs": [
    {
     "name": "stdout",
     "output_type": "stream",
     "text": [
      "['서울시', '관악구', '신림동']\n",
      "['강남구', '동작구', '노원구']\n"
     ]
    }
   ],
   "source": [
    "address1 = \"서울시 관악구 신림동\" \n",
    "address2 = \"강남구/동작구/노원구\"\n",
    "\n",
    "print(address1.split(\" \"))\n",
    "print(address2.split(\"/\"))"
   ]
  },
  {
   "cell_type": "code",
   "execution_count": 43,
   "metadata": {},
   "outputs": [
    {
     "name": "stdout",
     "output_type": "stream",
     "text": [
      "['서울시', '관악구', '신림동']\n",
      "['강남구', '동작구', '노원구']\n"
     ]
    }
   ],
   "source": [
    "address1 = \"서울시 관악구 신림동\" \n",
    "address2 = \"강남구/동작구/노원구\"\n",
    "\n",
    "print(address1.split(\" \"))\n",
    "print(address2.split(\"/\"))"
   ]
  },
  {
   "cell_type": "code",
   "execution_count": 44,
   "metadata": {},
   "outputs": [
    {
     "name": "stdout",
     "output_type": "stream",
     "text": [
      "['서울시', '관악구', '신림동']\n",
      "['강남구', '동작구', '노원구']\n"
     ]
    }
   ],
   "source": [
    "address1 = \"서울시 관악구 신림동\" \n",
    "address2 = \"강남구/동작구/노원구\"\n",
    "\n",
    "print(address1.split(\" \"))\n",
    "print(address2.split(\"/\"))"
   ]
  },
  {
   "cell_type": "markdown",
   "metadata": {
    "id": "O7SkuuYafpWW"
   },
   "source": [
    "예제. 파일 확장자 찾기"
   ]
  },
  {
   "cell_type": "code",
   "execution_count": 50,
   "metadata": {
    "id": "8HHL8hmKfpWW"
   },
   "outputs": [
    {
     "name": "stdout",
     "output_type": "stream",
     "text": [
      "['data', 'txt']\n"
     ]
    }
   ],
   "source": [
    "file_name1 = \"data.txt\"\n",
    "file_name2 = \"test.ipynb\"\n",
    "file_name3 = \"time_stamp.json\"\n",
    "\n",
    "print(file_name1.split(\".\"))"
   ]
  },
  {
   "cell_type": "code",
   "execution_count": 75,
   "metadata": {},
   "outputs": [
    {
     "name": "stdout",
     "output_type": "stream",
     "text": [
      "['data', 'txt']\n"
     ]
    }
   ],
   "source": [
    "file_name1 = \"data.txt\"\n",
    "file_name2 = \"test.ipynb\"\n",
    "file_name3 = \"time_stamp.json\"\n",
    "\n",
    "print(file_name1.split(\".\"))"
   ]
  },
  {
   "cell_type": "code",
   "execution_count": 85,
   "metadata": {},
   "outputs": [
    {
     "name": "stdout",
     "output_type": "stream",
     "text": [
      "['test', 'ipynb']\n"
     ]
    }
   ],
   "source": [
    "file_name1 = \"data.txt\"\n",
    "file_name2 = \"test.ipynb\"\n",
    "file_name3 = \"time_stamp.json\"\n",
    "\n",
    "print(file_name2.split(\".\"))"
   ]
  },
  {
   "cell_type": "markdown",
   "metadata": {
    "id": "9AbgJyKYfpWW"
   },
   "source": [
    "#### 문자열 대체(replace)"
   ]
  },
  {
   "cell_type": "code",
   "execution_count": 52,
   "metadata": {
    "id": "vdNBt5V5fpWW"
   },
   "outputs": [
    {
     "name": "stdout",
     "output_type": "stream",
     "text": [
      "noname@naver.com\n"
     ]
    }
   ],
   "source": [
    "email = \"noname@gmail.com\"\n",
    "\n",
    "print(email.replace(\"gmail\", \"naver\"))"
   ]
  },
  {
   "cell_type": "code",
   "execution_count": 76,
   "metadata": {},
   "outputs": [
    {
     "name": "stdout",
     "output_type": "stream",
     "text": [
      "noname@naver.com\n"
     ]
    }
   ],
   "source": [
    "email = \"noname@gmail.com\"\n",
    "\n",
    "print(email.replace(\"gmail\", \"naver\"))"
   ]
  },
  {
   "cell_type": "markdown",
   "metadata": {
    "id": "WcpA-035fpWW"
   },
   "source": [
    "#### 대/소문자 변환(lower, upper)"
   ]
  },
  {
   "cell_type": "code",
   "execution_count": 54,
   "metadata": {
    "id": "BtobhPadfpWW"
   },
   "outputs": [
    {
     "name": "stdout",
     "output_type": "stream",
     "text": [
      "ffmfmmmffffmfmff\n",
      "FFMFMMMFFFFMFMFF\n"
     ]
    }
   ],
   "source": [
    "gender = \"ffmfmMmffFFMfmff\"\n",
    "print(gender.lower())\n",
    "print(gender.upper())"
   ]
  },
  {
   "cell_type": "code",
   "execution_count": 77,
   "metadata": {},
   "outputs": [
    {
     "name": "stdout",
     "output_type": "stream",
     "text": [
      "FFMFMMMFFFFMFMFF\n"
     ]
    }
   ],
   "source": [
    "gender = \"ffmfmMmffFFMfmff\"\n",
    "\n",
    "print(gender.upper())"
   ]
  },
  {
   "cell_type": "markdown",
   "metadata": {
    "id": "9_t2Lzt6fpWW"
   },
   "source": [
    "#### 공백 제거(lstrip/rstrip/strip)"
   ]
  },
  {
   "cell_type": "code",
   "execution_count": 59,
   "metadata": {
    "id": "NSZRjfk2fpWW"
   },
   "outputs": [
    {
     "name": "stdout",
     "output_type": "stream",
     "text": [
      "|    홍길동      |\n",
      "|홍길동|\n",
      "|홍길동      |\n",
      "|    홍길동|\n"
     ]
    }
   ],
   "source": [
    "name = \"    홍길동      \"\n",
    "\n",
    "print(f\"|{name}|\")\n",
    "print(f\"|{name.strip()}|\")\n",
    "print(f\"|{name.lstrip()}|\")\n",
    "print(f\"|{name.rstrip()}|\")"
   ]
  },
  {
   "cell_type": "markdown",
   "metadata": {
    "id": "MDmVNNmlfpWX"
   },
   "source": [
    "#### 카운트 세기(count)"
   ]
  },
  {
   "cell_type": "code",
   "execution_count": 62,
   "metadata": {
    "id": "4OabxfPpfpWX"
   },
   "outputs": [
    {
     "name": "stdout",
     "output_type": "stream",
     "text": [
      "6\n"
     ]
    }
   ],
   "source": [
    "gender1 = \"ffmfmMmffFFMfmff\"\n",
    "gender2 = gender1.lower()\n",
    "\n",
    "print(gender2.count(\"m\"))"
   ]
  },
  {
   "cell_type": "code",
   "execution_count": 78,
   "metadata": {},
   "outputs": [
    {
     "name": "stdout",
     "output_type": "stream",
     "text": [
      "10\n"
     ]
    }
   ],
   "source": [
    "gender1 = \"ffmfmMmffFFMfmff\"\n",
    "gender2 = gender1.upper()\n",
    "\n",
    "print(gender2.count(\"F\"))"
   ]
  },
  {
   "cell_type": "markdown",
   "metadata": {
    "id": "TcBsq-A4fpWX"
   },
   "source": [
    "예제. 리뷰\n",
    "\n",
    "짬뽕은 정말 맵고 맛있었어요. 해산물이 가득 들어가서 만족했습니다.\n",
    "짜장면은 이 집에서 먹어본 것 중 가장 맛있었어요\n",
    "짜장면 굿"
   ]
  },
  {
   "cell_type": "code",
   "execution_count": 84,
   "metadata": {
    "id": "dU5G3cEufpWX"
   },
   "outputs": [
    {
     "ename": "SyntaxError",
     "evalue": "unterminated string literal (detected at line 1) (167339162.py, line 1)",
     "output_type": "error",
     "traceback": [
      "  \u001b[36mCell\u001b[39m\u001b[36m \u001b[39m\u001b[32mIn[84]\u001b[39m\u001b[32m, line 1\u001b[39m\n\u001b[31m    \u001b[39m\u001b[31mreview = \" 짬뽕은 정말 맵고 맛있었어요. 해산물이 가득 들어가서 만족했습니다.\u001b[39m\n             ^\n\u001b[31mSyntaxError\u001b[39m\u001b[31m:\u001b[39m unterminated string literal (detected at line 1)\n"
     ]
    }
   ],
   "source": [
    "review = \" 짬뽕은 정말 맵고 맛있었어요. 해산물이 가득 들어가서 만족했습니다.\n",
    "짜장면은 이 집에서 먹어본 것 중 가장 맛있었어요\n",
    "짜장면 굿 \"\n",
    "\n",
    "print(review.count(\"짬뽕\"))"
   ]
  },
  {
   "cell_type": "markdown",
   "metadata": {
    "id": "32pY-NGFfpWX"
   },
   "source": [
    "## 3) 리스트(List)"
   ]
  },
  {
   "cell_type": "markdown",
   "metadata": {
    "id": "wZ5yZQH-fpWX"
   },
   "source": [
    "### (1) 표현"
   ]
  },
  {
   "cell_type": "code",
   "execution_count": 1,
   "metadata": {
    "id": "HA86_T3JfpWX"
   },
   "outputs": [
    {
     "name": "stdout",
     "output_type": "stream",
     "text": [
      "[]\n",
      "<class 'list'>\n"
     ]
    }
   ],
   "source": [
    "mylist = []\n",
    "print(mylist)\n",
    "print(type(mylist))"
   ]
  },
  {
   "cell_type": "code",
   "execution_count": 2,
   "metadata": {},
   "outputs": [
    {
     "name": "stdout",
     "output_type": "stream",
     "text": [
      "55000\n"
     ]
    }
   ],
   "source": [
    "jan = 20000\n",
    "feb = 5000\n",
    "mar = 30000\n",
    "\n",
    "money = jan + feb + mar\n",
    "print(money)"
   ]
  },
  {
   "cell_type": "code",
   "execution_count": 4,
   "metadata": {},
   "outputs": [
    {
     "name": "stdout",
     "output_type": "stream",
     "text": [
      "407000\n"
     ]
    }
   ],
   "source": [
    "money2025 = [2000, 400000, 5000]\n",
    "print(sum((money2025)))"
   ]
  },
  {
   "cell_type": "code",
   "execution_count": 5,
   "metadata": {},
   "outputs": [
    {
     "name": "stdout",
     "output_type": "stream",
     "text": [
      "[1, 2, 3, '가', ['a', 'b', 'c', 'd'], (1, 2)]\n"
     ]
    }
   ],
   "source": [
    "# 리스트 만들기\n",
    "mylist = [1,2,3, \"가\", [\"a\", \"b\", \"c\", \"d\"], (1,2)]\n",
    "print(mylist)"
   ]
  },
  {
   "cell_type": "code",
   "execution_count": null,
   "metadata": {},
   "outputs": [],
   "source": []
  },
  {
   "cell_type": "markdown",
   "metadata": {
    "id": "MJ0aiHRifpWX"
   },
   "source": [
    "### (2) 인덱싱/슬라이싱"
   ]
  },
  {
   "cell_type": "markdown",
   "metadata": {
    "id": "-4z5eF4FfpWX"
   },
   "source": [
    "#### 인덱싱"
   ]
  },
  {
   "cell_type": "code",
   "execution_count": null,
   "metadata": {},
   "outputs": [],
   "source": [
    "#[박영희]"
   ]
  },
  {
   "cell_type": "markdown",
   "metadata": {
    "id": "FYU_bl_6fpWb"
   },
   "source": [
    "#### 슬라이싱"
   ]
  },
  {
   "cell_type": "code",
   "execution_count": 32,
   "metadata": {},
   "outputs": [
    {
     "name": "stdout",
     "output_type": "stream",
     "text": [
      "['bread', 'coke', 'pizza', 'pasta']\n"
     ]
    }
   ],
   "source": [
    "orders = [\"pasta\", \"pizza\", \"coke\", \"bread\"]\n",
    "# 거꾸로\n",
    "print(orders[::-1])"
   ]
  },
  {
   "cell_type": "markdown",
   "metadata": {
    "id": "M5-urS5_fpWb"
   },
   "source": [
    "예제.\n",
    "\n",
    "```\n",
    "data = [25, \"apple\", 3.13, [\"dog\", \"cat\", \"rabbit\"]]\n",
    "```\n",
    "\n",
    "* \"cat\" 출력"
   ]
  },
  {
   "cell_type": "code",
   "execution_count": 7,
   "metadata": {
    "id": "CQTMPPw-fpWb"
   },
   "outputs": [
    {
     "name": "stdout",
     "output_type": "stream",
     "text": [
      "cat\n"
     ]
    }
   ],
   "source": [
    "data = [25, \"apple\", 3.13, [\"dog\", \"cat\", \"rabbit\"]]\n",
    "print(data[3][1])"
   ]
  },
  {
   "cell_type": "markdown",
   "metadata": {
    "id": "aG4ATJ-HfpWb"
   },
   "source": [
    "예제.\n",
    "\n",
    "```\n",
    "data = [25, 'apple', 3.13, ['dog', 'cat', 'rabbit']]\n",
    "```\n",
    "\n",
    "* ['dog', 'cat'] 출력"
   ]
  },
  {
   "cell_type": "code",
   "execution_count": 8,
   "metadata": {
    "id": "9UwRH5WafpWb"
   },
   "outputs": [
    {
     "name": "stdout",
     "output_type": "stream",
     "text": [
      "dog cat\n"
     ]
    }
   ],
   "source": [
    "data = [25, \"apple\", 3.13, [\"dog\", \"cat\", \"rabbit\"]]\n",
    "print((data[3][0]),data[3][1])"
   ]
  },
  {
   "cell_type": "code",
   "execution_count": 9,
   "metadata": {},
   "outputs": [
    {
     "name": "stdout",
     "output_type": "stream",
     "text": [
      "['dog', 'cat']\n"
     ]
    }
   ],
   "source": [
    "data = [25, \"apple\", 3.13, [\"dog\", \"cat\", \"rabbit\"]]\n",
    "print(data[3][:2])"
   ]
  },
  {
   "cell_type": "markdown",
   "metadata": {
    "id": "1I_5wkFhfpWb"
   },
   "source": [
    "### (2) 연산"
   ]
  },
  {
   "cell_type": "markdown",
   "metadata": {
    "id": "ESRph4l8fpWc"
   },
   "source": [
    "#### 덧셈(결합)"
   ]
  },
  {
   "cell_type": "code",
   "execution_count": 10,
   "metadata": {},
   "outputs": [
    {
     "name": "stdout",
     "output_type": "stream",
     "text": [
      "[1, 2, 3, 'a', 'b']\n"
     ]
    }
   ],
   "source": [
    "data = [1,2,3]\n",
    "data2 = [\"a\", \"b\"]\n",
    "\n",
    "result = data + data2\n",
    "print(result)"
   ]
  },
  {
   "cell_type": "code",
   "execution_count": 14,
   "metadata": {},
   "outputs": [
    {
     "name": "stdout",
     "output_type": "stream",
     "text": [
      "[10, 0, 3, 2, 2, 50, 23, 30]\n"
     ]
    }
   ],
   "source": [
    "jan_money = [10, 0, 3, 2]\n",
    "feb_money = [2, 50, 23, 30]\n",
    "\n",
    "money = jan_money + feb_money\n",
    "print(money)"
   ]
  },
  {
   "cell_type": "markdown",
   "metadata": {
    "id": "BbGZBaetfpWc"
   },
   "source": [
    "#### 곱셈"
   ]
  },
  {
   "cell_type": "markdown",
   "metadata": {
    "id": "qpxQzhmbfpWc"
   },
   "source": [
    "### (3) range"
   ]
  },
  {
   "cell_type": "markdown",
   "metadata": {},
   "source": [
    "`range(n)`\n",
    "range(n) : 0부터 n-1까지의 범위를 만들어 줍니다.\n",
    "range(start, end)  : start부터 end-1 까지의 범위를 만들어 줍니다.\n",
    "range((start, end, step))  : start부터 end-1까지의 step간격으로 범위를 만들어 줍니다."
   ]
  },
  {
   "cell_type": "code",
   "execution_count": 28,
   "metadata": {},
   "outputs": [
    {
     "name": "stdout",
     "output_type": "stream",
     "text": [
      "[3, 4, 5, 6, 7, 8, 9]\n",
      "[1, 3, 5, 7, 9]\n",
      "[5, 4, 3, 2, 1, 0]\n"
     ]
    }
   ],
   "source": [
    "# 3부터 9까지의 범위를 리스트로 출력하고 싶어요\n",
    "num_list = list(range(3, 10))\n",
    "print(num_list)\n",
    "# 0에서 10까지 홀수만 출력하고 싶어요.\n",
    "num_list = list(range(1, 11,2))\n",
    "print(num_list)\n",
    "# 0에서 5까지의 범위를 거꾸로 출력하고 싶어요.\n",
    "num_list = list(range(5, -1, -1))\n",
    "print(num_list)"
   ]
  },
  {
   "cell_type": "code",
   "execution_count": 101,
   "metadata": {},
   "outputs": [
    {
     "ename": "SyntaxError",
     "evalue": "invalid syntax (2253911699.py, line 5)",
     "output_type": "error",
     "traceback": [
      "  \u001b[36mCell\u001b[39m\u001b[36m \u001b[39m\u001b[32mIn[101]\u001b[39m\u001b[32m, line 5\u001b[39m\n\u001b[31m    \u001b[39m\u001b[31mnum_list(:11, 1)\u001b[39m\n             ^\n\u001b[31mSyntaxError\u001b[39m\u001b[31m:\u001b[39m invalid syntax\n"
     ]
    }
   ],
   "source": [
    "# 3부터 9까지의 범위를 리스트로 출력하고 싶어요\n",
    "num_list = list(range(3, 10))\n",
    "print(num_list)\n",
    "# 0에서 10까지 홀수만 출력하고 싶어요.\n",
    "\n",
    "# 0에서 5까지의 범위를 거꾸로 출력하고 싶어요.\n"
   ]
  },
  {
   "cell_type": "code",
   "execution_count": 30,
   "metadata": {},
   "outputs": [
    {
     "name": "stdout",
     "output_type": "stream",
     "text": [
      "[5, 4, 3, 2, 1, 0]\n"
     ]
    }
   ],
   "source": [
    "num_list = list(range(5, -1, -1))\n",
    "print(num_list)"
   ]
  },
  {
   "cell_type": "code",
   "execution_count": 21,
   "metadata": {},
   "outputs": [
    {
     "name": "stdout",
     "output_type": "stream",
     "text": [
      "range(3, 9)\n",
      "[3, 4, 5, 6, 7, 8]\n"
     ]
    }
   ],
   "source": [
    "num_list = range(3, 9)\n",
    "print(num_list)\n",
    "print(list(num_list))"
   ]
  },
  {
   "cell_type": "code",
   "execution_count": 16,
   "metadata": {},
   "outputs": [
    {
     "name": "stdout",
     "output_type": "stream",
     "text": [
      "range(0, 4)\n",
      "<class 'range'>\n"
     ]
    }
   ],
   "source": [
    "# 연속된 숫자를 리스트로 만들고 싶어요.\n",
    "num_list =range(4)\n",
    "\n",
    "print(num_list)\n",
    "print(type(num_list))"
   ]
  },
  {
   "cell_type": "code",
   "execution_count": 20,
   "metadata": {},
   "outputs": [
    {
     "name": "stdout",
     "output_type": "stream",
     "text": [
      "[0, 1, 2, 3]\n"
     ]
    }
   ],
   "source": [
    "num_list = list(range(4))\n",
    "print(num_list)\n"
   ]
  },
  {
   "cell_type": "markdown",
   "metadata": {
    "id": "cUcxDoQtfpWc"
   },
   "source": [
    "### (4) 수정/추가/삭제"
   ]
  },
  {
   "cell_type": "markdown",
   "metadata": {
    "id": "eYSBz_UVfpWc"
   },
   "source": [
    "#### 수정"
   ]
  },
  {
   "cell_type": "code",
   "execution_count": 50,
   "metadata": {},
   "outputs": [
    {
     "name": "stdout",
     "output_type": "stream",
     "text": [
      "[0, 1, 2, 3, 4, 5, 6, 7]\n",
      "1\n",
      "[0, '일', 2, 3, 4, 5, 6, 7]\n",
      "일\n",
      "[0, '일', 2, 3, 4, '오', 6, 7]\n",
      "[2, 3]\n",
      "[0, '일', 'two', 'three', 4, '오', 6, 7]\n",
      "['three', 4, '오', 6, 7]\n",
      "[0, '일', 'two', '하', '하', '하']\n"
     ]
    }
   ],
   "source": [
    "# 0에서 7까지의 범위를 리스트로 출력\n",
    "num_list = list(range(8))\n",
    "print(num_list)\n",
    "\n",
    "# 1번째 값을 \"일\"로 바꾸기\n",
    "print(num_list[1])\n",
    "num_list[1] = \"일\"\n",
    "print(num_list)\n",
    "\n",
    "# 5번째 값을 \"오\"로 바꾸기\n",
    "print(num_list[1])\n",
    "num_list[5] = \"오\"\n",
    "print(num_list)\n",
    "\n",
    "# 2번째에서 3번째까지의 데이터를 영어로 바꾸기\n",
    "print(num_list[2:4])\n",
    "num_list[2:4] = [\"two\", \"three\"]\n",
    "print(num_list)\n",
    "\n",
    "# 3번째에서 끌까지 데이터를 \"하하하\"로 바꾸기\n",
    "print(num_list[3:])\n",
    "num_list[3:] = \"하하하\"\n",
    "print(num_list)\n",
    "\n",
    "# 처음부터 3번째까지의 데이터를 10으로 바꾸기"
   ]
  },
  {
   "cell_type": "code",
   "execution_count": 46,
   "metadata": {},
   "outputs": [
    {
     "name": "stdout",
     "output_type": "stream",
     "text": [
      "[0, 1, 2, 3, 4, 5]\n",
      "4\n",
      "[0, 1, 2, 3, '오', 5]\n"
     ]
    }
   ],
   "source": [
    "# 5번째 값을 \"오\"로 바꾸기\n",
    "num_list = list(range(6))\n",
    "print(num_list)\n",
    "print(num_list[4])\n",
    "num_list[4] = \"오\"\n",
    "print(num_list)\n",
    "\n"
   ]
  },
  {
   "cell_type": "code",
   "execution_count": 47,
   "metadata": {},
   "outputs": [
    {
     "name": "stdout",
     "output_type": "stream",
     "text": [
      "[0, 1, 2, 3]\n"
     ]
    }
   ],
   "source": [
    "# 2번째에서 3번째까지의 데이터를 영어로 바꾸기\n",
    "num_list = list(range(4))\n",
    "print(num_list)\n"
   ]
  },
  {
   "cell_type": "markdown",
   "metadata": {},
   "source": [
    "슬라이싱한 자료를 대체하기 위해서는 여러 개의 자료가 담긴 리스트여야 한다.(한개의 자료이면 안된다)\n",
    "문자열(ex. \"안녕하세요\") 자동으로 글자 하나하나를 요소로 인식해준다."
   ]
  },
  {
   "cell_type": "markdown",
   "metadata": {
    "id": "gESOTUWxfpWc"
   },
   "source": [
    "#### 추가"
   ]
  },
  {
   "cell_type": "code",
   "execution_count": 55,
   "metadata": {},
   "outputs": [
    {
     "name": "stdout",
     "output_type": "stream",
     "text": [
      "[0, 1, 2, 3, 4]\n",
      "[0, 1, 2, 3, 4, 5]\n",
      "[0, 1, 2, 3, 4, 5, 1, 2, 3]\n",
      "[0, 1, 2, 3, 4, 5, 1, 2, 3, [1, 2, 3, 4, 5]]\n",
      "[0, 1, 2, 3, 4, 5, 1, 2, 3, [1, 2, 3, 4, 5], 1, 2, 3, 4, 5]\n"
     ]
    }
   ],
   "source": [
    "data = list(range(5))\n",
    "print(data)\n",
    "\n",
    "# 데이터 한 개 추가(5를 추가)\n",
    "data = data + [5]\n",
    "print(data)\n",
    "\n",
    "\n",
    "# 데이터 한 개 추가([1, 2, 3])를 추가\n",
    "data = data + [1, 2, 3]\n",
    "print(data)\n",
    "\n",
    "# 데이터 한 개 추가([1, 2, 3, 4, 5])를 추가\n",
    "data.append([1, 2, 3, 4, 5])\n",
    "print(data)\n",
    "\n",
    "data.extend([1, 2, 3, 4, 5])\n",
    "print(data)"
   ]
  },
  {
   "cell_type": "code",
   "execution_count": 57,
   "metadata": {},
   "outputs": [
    {
     "name": "stdout",
     "output_type": "stream",
     "text": [
      "[10, 20, 30]\n",
      "[10, 20, 40, 30]\n"
     ]
    }
   ],
   "source": [
    "# 삽입 .insert(위치, 값) : 위치에 값을 삽입해 주세요.\n",
    "num_list = [10, 20, 30]\n",
    "print(num_list)\n",
    "num_list.insert(2, 40)\n",
    "print(num_list)"
   ]
  },
  {
   "cell_type": "code",
   "execution_count": 1,
   "metadata": {},
   "outputs": [
    {
     "name": "stdout",
     "output_type": "stream",
     "text": [
      "[['#헬스', '#단백질'], ['#닭가슴살', '#다이어트', '#단백질'], ['#요요', '#헬스', '#다이어트'], ['#닭가슴살', '#단백질']]\n"
     ]
    }
   ],
   "source": [
    "# * append / extend 차이 알기\n",
    "# 인스타그램 태그 수집기 \n",
    "# post1 : #헬스, #단백질\n",
    "# post2 : #닭가슴살, #다이어트, #단백질\n",
    "# post3 : #요요, #헬스, #다이어트\n",
    "# post4 : #닭가슴살, #단백질\n",
    "\n",
    "# 문제 1. 인스타그램 포스트별로 데이터를 수집하고 싶다\n",
    "# 문제 2. 모든 해시태그들을 tags라는 변수에 담고 싶다\n",
    "# 문제 3. 해시태그 카테고리가 몇 개인지 알고 싶다\n",
    "\n",
    "post1 = [\"#헬스\", \"#단백질\"]\n",
    "post2 = [\"#닭가슴살\", \"#다이어트\", \"#단백질\"]\n",
    "post3 = [\"#요요\", \"#헬스\", \"#다이어트\"]\n",
    "post4 = [\"#닭가슴살\", \"#단백질\"]\n",
    "\n",
    "# 문제 1. 인스타그램 포스트별로 데이터를 수집하고 싶다\n",
    "posts = [post1, post2, post3, post4]\n",
    "tags = []\n",
    "for post in posts:\n",
    "    tags.append(post)\n",
    "\n",
    "print(tags)"
   ]
  },
  {
   "cell_type": "code",
   "execution_count": 2,
   "metadata": {},
   "outputs": [
    {
     "name": "stdout",
     "output_type": "stream",
     "text": [
      "['#헬스', '#단백질', '#닭가슴살', '#다이어트', '#단백질', '#요요', '#헬스', '#다이어트', '#닭가슴살', '#단백질']\n"
     ]
    }
   ],
   "source": [
    "# 문제 2. 모든 해시태그들을 tags라는 변수에 담고 싶다\n",
    "tags = []\n",
    "for post in posts:\n",
    "    tags.extend(post)\n",
    "\n",
    "print(tags)"
   ]
  },
  {
   "cell_type": "code",
   "execution_count": 3,
   "metadata": {},
   "outputs": [
    {
     "name": "stdout",
     "output_type": "stream",
     "text": [
      "{'#닭가슴살', '#헬스', '#요요', '#단백질', '#다이어트'}\n"
     ]
    }
   ],
   "source": [
    "# 문제 3. 해시태그 카테고리가 몇 개인지 알고 싶다\n",
    "result = set(tags)\n",
    "print(result)"
   ]
  },
  {
   "cell_type": "markdown",
   "metadata": {
    "id": "bJ4Jr4egfpWc"
   },
   "source": [
    "#### 삭제"
   ]
  },
  {
   "cell_type": "code",
   "execution_count": 70,
   "metadata": {},
   "outputs": [
    {
     "name": "stdout",
     "output_type": "stream",
     "text": [
      "[0, 10, 20, 30, 40, 50, 60, 70, 80, 90]\n",
      "[0, 10, 20, 40, 50, 60, 70, 80, 90]\n",
      "[0, 10, 20, 40, 50, 60, 80, 90]\n",
      "[60, 80, 90]\n",
      "[0, 10, 20, 40, 50]\n",
      "50\n",
      "[0, 10, 20, 40]\n"
     ]
    }
   ],
   "source": [
    "num_list = list(range(0, 100, 10))\n",
    "print(num_list)\n",
    "\n",
    "# 3번째 데이터를 삭제해 주세요.(del 이용)\n",
    "del num_list[3]\n",
    "print(num_list)\n",
    "\n",
    "# 7번째 데이터를 삭제해 주세요.(remove 이용)\n",
    "num_list.remove(70)\n",
    "print(num_list)\n",
    "\n",
    "# 뒤에서 3번째부터 끝까지 데이터를 삭제해 주세요.\n",
    "print(num_list[-3:])\n",
    "num_list[-3:] = []\n",
    "print(num_list)\n",
    "\n",
    "# 맨 뒤에 있는 데이터를 삭제하고 그 값을 출력해 주세요.(pop이용)\n",
    "pop_value = num_list.pop()\n",
    "print(pop_value)\n",
    "print(num_list)"
   ]
  },
  {
   "cell_type": "markdown",
   "metadata": {
    "id": "3jw2_iXffpWc"
   },
   "source": [
    "예제. 게시물 코드\n",
    "\n",
    "```\n",
    "post_data = [\"ID001\", \"ID002\", \"ID003\", \"ID004\", \"ID005\"]\n",
    "```"
   ]
  },
  {
   "cell_type": "code",
   "execution_count": 78,
   "metadata": {},
   "outputs": [
    {
     "name": "stdout",
     "output_type": "stream",
     "text": [
      "ID003\n",
      "['ID001', 'ID002', 'ID004', 'ID005']\n",
      "['ID003']\n"
     ]
    }
   ],
   "source": [
    "# ID003 데이터 오류가 생겼다.\n",
    "# 오류가 생긴 데이터는 삭제하고 erro_data에 담아주세요\n",
    "\n",
    "# 예제. 게시물 코드\n",
    "\n",
    "post_data = [\"ID001\", \"ID002\", \"ID003\", \"ID004\", \"ID005\"]\n",
    "pop_data = post_data.pop(2)\n",
    "print(pop_data)\n",
    "print(post_data)\n",
    "\n",
    "error_data = []\n",
    "error_data.append(pop_data)\n",
    "print((error_data))\n",
    "\n",
    "\n"
   ]
  },
  {
   "cell_type": "markdown",
   "metadata": {
    "id": "nzrEdhKXfpWc"
   },
   "source": [
    "## 4) 튜플(Tuple)"
   ]
  },
  {
   "cell_type": "code",
   "execution_count": 79,
   "metadata": {},
   "outputs": [
    {
     "name": "stdout",
     "output_type": "stream",
     "text": [
      "()\n"
     ]
    }
   ],
   "source": [
    "# 빈 튜플 만들기\n",
    "data = ()\n",
    "print(data)\n"
   ]
  },
  {
   "cell_type": "code",
   "execution_count": 80,
   "metadata": {},
   "outputs": [
    {
     "name": "stdout",
     "output_type": "stream",
     "text": [
      "10\n",
      "<class 'int'>\n",
      "(10,)\n",
      "<class 'tuple'>\n"
     ]
    }
   ],
   "source": [
    "# 요소가 1개인 튜플 만들기(데이터 10)\n",
    "data = (10)\n",
    "print(data)\n",
    "print(type(data))\n",
    "\n",
    "data = (10,)\n",
    "print(data)\n",
    "print(type(data))"
   ]
  },
  {
   "cell_type": "code",
   "execution_count": 81,
   "metadata": {},
   "outputs": [
    {
     "ename": "TypeError",
     "evalue": "'tuple' object does not support item assignment",
     "output_type": "error",
     "traceback": [
      "\u001b[31m---------------------------------------------------------------------------\u001b[39m",
      "\u001b[31mTypeError\u001b[39m                                 Traceback (most recent call last)",
      "\u001b[36mCell\u001b[39m\u001b[36m \u001b[39m\u001b[32mIn[81]\u001b[39m\u001b[32m, line 2\u001b[39m\n\u001b[32m      1\u001b[39m fruits = (\u001b[33m\"\u001b[39m\u001b[33m사과\u001b[39m\u001b[33m\"\u001b[39m, \u001b[33m\"\u001b[39m\u001b[33m오렌지\u001b[39m\u001b[33m\"\u001b[39m, \u001b[33m\"\u001b[39m\u001b[33m포도\u001b[39m\u001b[33m\"\u001b[39m)\n\u001b[32m----> \u001b[39m\u001b[32m2\u001b[39m \u001b[43mfruits\u001b[49m\u001b[43m[\u001b[49m\u001b[32;43m1\u001b[39;49m\u001b[43m]\u001b[49m = \u001b[33m\"\u001b[39m\u001b[33m멜론\u001b[39m\u001b[33m\"\u001b[39m\n\u001b[32m      3\u001b[39m \u001b[38;5;28mprint\u001b[39m(fruits)\n",
      "\u001b[31mTypeError\u001b[39m: 'tuple' object does not support item assignment"
     ]
    }
   ],
   "source": [
    "fruits = (\"사과\", \"오렌지\", \"포도\")\n",
    "fruits[1] = \"멜론\"\n",
    "print(fruits)\n",
    "\n",
    "# 튜플은 수정 및 삭제가 불가하므로 타입 에러 뜨는게 맞음"
   ]
  },
  {
   "cell_type": "markdown",
   "metadata": {
    "id": "k6jpRXd8fpWc"
   },
   "source": [
    "### (1) 표현"
   ]
  },
  {
   "cell_type": "markdown",
   "metadata": {
    "id": "bCZYM_W2fpWc"
   },
   "source": [
    "## 5) 딕셔너리(Dictionary)"
   ]
  },
  {
   "cell_type": "markdown",
   "metadata": {
    "id": "iQ82NPU1fpWc"
   },
   "source": [
    "### (1) 표현"
   ]
  },
  {
   "cell_type": "code",
   "execution_count": 82,
   "metadata": {},
   "outputs": [
    {
     "name": "stdout",
     "output_type": "stream",
     "text": [
      "{}\n",
      "<class 'dict'>\n"
     ]
    }
   ],
   "source": [
    "mydict = {}\n",
    "print(mydict)\n",
    "print(type(mydict))"
   ]
  },
  {
   "cell_type": "code",
   "execution_count": 83,
   "metadata": {},
   "outputs": [
    {
     "name": "stdout",
     "output_type": "stream",
     "text": [
      "[['홍길동', 68], ['최수연', 40], ['김철수', 90]]\n"
     ]
    }
   ],
   "source": [
    "data = [[\"홍길동\", 68], [\"최수연\", 40], [\"김철수\", 90]]\n",
    "print(data)"
   ]
  },
  {
   "cell_type": "code",
   "execution_count": 7,
   "metadata": {},
   "outputs": [
    {
     "ename": "SyntaxError",
     "evalue": "invalid syntax. Perhaps you forgot a comma? (3209929721.py, line 2)",
     "output_type": "error",
     "traceback": [
      "  \u001b[36mCell\u001b[39m\u001b[36m \u001b[39m\u001b[32mIn[7]\u001b[39m\u001b[32m, line 2\u001b[39m\n\u001b[31m    \u001b[39m\u001b[31m\"이름\" : [\"홍길동\", \"최수연\", \"김철수\"]\u001b[39m\n           ^\n\u001b[31mSyntaxError\u001b[39m\u001b[31m:\u001b[39m invalid syntax. Perhaps you forgot a comma?\n"
     ]
    }
   ],
   "source": [
    "score_data1 = {\n",
    "       \"이름\" : [\"홍길동\", \"최수연\", \"김철수\"]\n",
    "       \"성적\" : [68, 40, 90]        \n",
    "}\n",
    "score_data2 = {\n",
    "      \"홍길동\" : 68, \"최수연\" : 40, \"김철수\" : 90\n",
    "}\n",
    "print(score_data1)\n",
    "print(score_data2)"
   ]
  },
  {
   "cell_type": "markdown",
   "metadata": {
    "id": "hakTc3rjfpWc"
   },
   "source": [
    "### (2) 딕셔너리 다루기"
   ]
  },
  {
   "cell_type": "markdown",
   "metadata": {
    "id": "s2HGu7VwfpWc"
   },
   "source": [
    "예제. 날씨 데이터\n",
    "* 'city'키 'Busan'으로 수정하기\n",
    "* 미세먼지(`pm10`)키 추가하기 (값: 34)\n",
    "* 'forecast' 키에 ['Rainy', 'Rainy'] 추가하기\n",
    "\n",
    "```\n",
    "weather_data = {\n",
    "    'city': 'Seoul',\n",
    "    'temperature': 22.5,  # 섭씨\n",
    "    'humidity': 60,       # 상대 습도(%)\n",
    "    'forecast': ['Sunny', 'Cloudy', 'Rainy']  # 3일 예보\n",
    "}\n",
    "```"
   ]
  },
  {
   "cell_type": "code",
   "execution_count": 86,
   "metadata": {
    "id": "w3-dH_uTfpWc"
   },
   "outputs": [],
   "source": [
    "weather_data = {\n",
    "    'city': 'Seoul',\n",
    "    'temperature': 22.5,  # 섭씨\n",
    "    'humidity': 60,       # 상대 습도(%)\n",
    "    'forecast': ['Sunny', 'Cloudy', 'Rainy']  # 3일 예보\n",
    "}"
   ]
  },
  {
   "cell_type": "code",
   "execution_count": 91,
   "metadata": {},
   "outputs": [
    {
     "name": "stdout",
     "output_type": "stream",
     "text": [
      "Seoul\n",
      "{'city': 'busan', 'temperature': 22.5, 'humidity': 60, 'forecast': ['Sunny', 'Cloudy', 'Rainy']}\n"
     ]
    }
   ],
   "source": [
    "print(weather_data[\"city\"])\n",
    "weather_data[\"city\"] = \"busan\"\n",
    "print(weather_data)"
   ]
  },
  {
   "cell_type": "code",
   "execution_count": 97,
   "metadata": {},
   "outputs": [
    {
     "name": "stdout",
     "output_type": "stream",
     "text": [
      "busan\n",
      "{'city': 'busan', 'temperature': 22.5, 'humidity': 60, 'forecast': ['Sunny', 'Cloudy', 'Rainy'], 'pm10': 34}\n"
     ]
    }
   ],
   "source": [
    "print(weather_data[\"city\"])\n",
    "weather_data[\"pm10\"] = 34\n",
    "print(weather_data)"
   ]
  },
  {
   "cell_type": "code",
   "execution_count": 99,
   "metadata": {},
   "outputs": [
    {
     "data": {
      "text/plain": [
       "{'city': 'busan',\n",
       " 'temperature': 22.5,\n",
       " 'humidity': 60,\n",
       " 'forecast': ['Sunny', 'Cloudy', 'Rainy', 'rainy', 'rainy'],\n",
       " 'pm10': 34}"
      ]
     },
     "execution_count": 99,
     "metadata": {},
     "output_type": "execute_result"
    }
   ],
   "source": [
    "weather_data[\"forecast\"].extend(['rainy', 'rainy'])\n",
    "weather_data"
   ]
  },
  {
   "cell_type": "markdown",
   "metadata": {
    "id": "T1fOPGfffpWd"
   },
   "source": [
    "### (3) 관련 메서드"
   ]
  },
  {
   "cell_type": "markdown",
   "metadata": {
    "id": "xyFqV-k4fpWd"
   },
   "source": [
    "#### 조회"
   ]
  },
  {
   "cell_type": "code",
   "execution_count": 103,
   "metadata": {},
   "outputs": [],
   "source": [
    "student = {\"name\": \"홍길동\", \"age\": 28, \"height\": 187.4, \"score\": 88}"
   ]
  },
  {
   "cell_type": "code",
   "execution_count": 106,
   "metadata": {},
   "outputs": [
    {
     "name": "stdout",
     "output_type": "stream",
     "text": [
      "['name', 'age', 'height', 'score']\n",
      "<class 'dict_keys'>\n",
      "['홍길동', 28, 187.4, 88]\n",
      "<class 'dict_values'>\n"
     ]
    }
   ],
   "source": [
    "# 모든 키 조회\n",
    "print(list((student.keys())))\n",
    "print(type(student.keys()))\n",
    "\n",
    "# 모든 값 조회\n",
    "print(list((student.values())))\n",
    "print(type(student.values()))"
   ]
  },
  {
   "cell_type": "code",
   "execution_count": 111,
   "metadata": {},
   "outputs": [
    {
     "name": "stdout",
     "output_type": "stream",
     "text": [
      "{'홍길동': '참석', '김예지': '참석', '김사랑': '참석'}\n"
     ]
    }
   ],
   "source": [
    "# student_list의 학생이 student_dick에 없으면 \"참석\"을 값으로 딕셔너리의 키를 등록하라.\n",
    "student_list = [\"홍길동\", \"김예지\", \"김사랑\"]\n",
    "student_dict = {\"홍길동\": \"참석\"}\n",
    "\n",
    "for student in student_list:\n",
    "    if student not in student_dict:\n",
    "        student_dict[student] = \"참석\"\n",
    "\n",
    "print(student_dict)        "
   ]
  },
  {
   "cell_type": "markdown",
   "metadata": {
    "id": "NXLo6tYHfpWd"
   },
   "source": [
    "#### 삭제"
   ]
  },
  {
   "cell_type": "code",
   "execution_count": 112,
   "metadata": {},
   "outputs": [
    {
     "name": "stdout",
     "output_type": "stream",
     "text": [
      "{}\n"
     ]
    }
   ],
   "source": [
    "student_dick = {'홍길동': '참석', '김예지': '참석', '김사랑': '참석'}\n",
    "student_dick.clear()\n",
    "print(student_dick)"
   ]
  },
  {
   "cell_type": "markdown",
   "metadata": {
    "id": "l8y7gZ80fpWd"
   },
   "source": [
    "## 6) 집합"
   ]
  },
  {
   "cell_type": "markdown",
   "metadata": {
    "id": "NsSD5UjdfpWd"
   },
   "source": [
    "### (1) 표현"
   ]
  },
  {
   "cell_type": "code",
   "execution_count": 113,
   "metadata": {},
   "outputs": [
    {
     "name": "stdout",
     "output_type": "stream",
     "text": [
      "set()\n",
      "<class 'set'>\n"
     ]
    }
   ],
   "source": [
    "set_list = []\n",
    "myset = set(set_list)\n",
    "\n",
    "print(myset)\n",
    "print(type(myset))"
   ]
  },
  {
   "cell_type": "code",
   "execution_count": 114,
   "metadata": {},
   "outputs": [
    {
     "name": "stdout",
     "output_type": "stream",
     "text": [
      "{1, 3, 4, 5}\n",
      "<class 'set'>\n"
     ]
    }
   ],
   "source": [
    "# 중복 제거\n",
    "set_list = [1, 1, 4, 5, 5, 5, 5, 5, 5, 5, 3]\n",
    "myset = set(set_list)\n",
    "\n",
    "print(myset)\n",
    "print(type(myset))"
   ]
  },
  {
   "cell_type": "markdown",
   "metadata": {
    "id": "zJqGcyIbfpWd"
   },
   "source": [
    "예제. 이메일 중복 제거\n",
    "\n",
    "```\n",
    "emails = ['user1@example.com','user2@example.com','user1@example.com','user3@example.com','user2@example.com']\n",
    "```"
   ]
  },
  {
   "cell_type": "code",
   "execution_count": 115,
   "metadata": {
    "id": "lmsklubGfpWd"
   },
   "outputs": [
    {
     "name": "stdout",
     "output_type": "stream",
     "text": [
      "{'user3@example.com', 'user1@example.com', 'user2@example.com'}\n"
     ]
    }
   ],
   "source": [
    "emails = ['user1@example.com','user2@example.com','user1@example.com','user3@example.com','user2@example.com']\n",
    "print(set(emails))"
   ]
  },
  {
   "cell_type": "code",
   "execution_count": null,
   "metadata": {},
   "outputs": [],
   "source": []
  },
  {
   "cell_type": "markdown",
   "metadata": {
    "id": "u3-4s3VbfpWe"
   },
   "source": [
    "### (2) 요소 추가/제거"
   ]
  },
  {
   "cell_type": "markdown",
   "metadata": {
    "id": "-IE7WahqfpWe"
   },
   "source": [
    "#### 추가"
   ]
  },
  {
   "cell_type": "code",
   "execution_count": 117,
   "metadata": {
    "id": "ijOunSBsfzf-"
   },
   "outputs": [
    {
     "name": "stdout",
     "output_type": "stream",
     "text": [
      "{1, 2, 3, 4, 5}\n",
      "{1, 2, 3, 4, 5, 6}\n",
      "{1, 2, 3, 4, 5, 6}\n"
     ]
    }
   ],
   "source": [
    "myset = {1, 2, 3, 4, 5}\n",
    "print(myset)\n",
    "\n",
    "# 6 추가\n",
    "myset.add(6)\n",
    "print(myset)\n",
    "\n",
    "# 5 추가\n",
    "myset.add(5)\n",
    "print(myset)"
   ]
  },
  {
   "cell_type": "code",
   "execution_count": 118,
   "metadata": {},
   "outputs": [
    {
     "name": "stdout",
     "output_type": "stream",
     "text": [
      "{1, 2, 3, 4, 5, 6, 7, 8}\n"
     ]
    }
   ],
   "source": [
    "#4, 7, 8 추가하기\n",
    "myset.update([4, 7, 8])\n",
    "print(myset)"
   ]
  },
  {
   "cell_type": "markdown",
   "metadata": {
    "id": "inOzgS8ofpWe"
   },
   "source": [
    "#### 제거"
   ]
  },
  {
   "cell_type": "code",
   "execution_count": 119,
   "metadata": {},
   "outputs": [
    {
     "name": "stdout",
     "output_type": "stream",
     "text": [
      "{1, 2, 3, 4, 6, 7, 8}\n"
     ]
    }
   ],
   "source": [
    "myset.remove(5)\n",
    "print(myset)"
   ]
  },
  {
   "cell_type": "code",
   "execution_count": 120,
   "metadata": {},
   "outputs": [
    {
     "name": "stdout",
     "output_type": "stream",
     "text": [
      "{1, 2, 3, 4, 6, 7, 8}\n"
     ]
    }
   ],
   "source": [
    "myset.discard(9)\n",
    "print(myset)"
   ]
  },
  {
   "cell_type": "code",
   "execution_count": 122,
   "metadata": {},
   "outputs": [
    {
     "name": "stdout",
     "output_type": "stream",
     "text": [
      "{1, 3, 4, 6, 7, 8}\n"
     ]
    }
   ],
   "source": [
    "myset.discard(2)\n",
    "print(myset)"
   ]
  },
  {
   "cell_type": "markdown",
   "metadata": {
    "id": "N7sDYPgkfpWe"
   },
   "source": [
    "### (3) 연산"
   ]
  },
  {
   "cell_type": "markdown",
   "metadata": {},
   "source": [
    "<img src='https://www.dropbox.com/scl/fi/o9jjkizgbclwemi9wot4h/.png?rlkey=35o0zu24jc99ggiv9ex3pukqf&st=f69cko7q&dl=1' width=30%>"
   ]
  },
  {
   "cell_type": "code",
   "execution_count": 123,
   "metadata": {},
   "outputs": [
    {
     "name": "stdout",
     "output_type": "stream",
     "text": [
      "{'C', 'D', 'A', 'G', 'H', 'F', 'B'}\n"
     ]
    }
   ],
   "source": [
    "set1 = {\"A\", \"C\", \"D\", \"F\", \"G\" }\n",
    "set2 = {\"A\", \"B\", \"F\", \"H\"}\n",
    "\n",
    "# 합집합\n",
    "set_union = set1 | set2\n",
    "print(set_union)\n"
   ]
  },
  {
   "cell_type": "markdown",
   "metadata": {
    "id": "WCXq_UaJfpWe"
   },
   "source": [
    "## 7) 불"
   ]
  },
  {
   "cell_type": "code",
   "execution_count": null,
   "metadata": {},
   "outputs": [],
   "source": []
  }
 ],
 "metadata": {
  "colab": {
   "provenance": []
  },
  "kernelspec": {
   "display_name": "python",
   "language": "python",
   "name": "python3"
  },
  "language_info": {
   "codemirror_mode": {
    "name": "ipython",
    "version": 3
   },
   "file_extension": ".py",
   "mimetype": "text/x-python",
   "name": "python",
   "nbconvert_exporter": "python",
   "pygments_lexer": "ipython3",
   "version": "3.11.13"
  }
 },
 "nbformat": 4,
 "nbformat_minor": 0
}
